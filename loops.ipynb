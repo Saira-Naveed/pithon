{
 "cells": [
  {
   "cell_type": "code",
   "execution_count": 26,
   "id": "528a92c2-0119-48b0-a463-970a980e93e4",
   "metadata": {},
   "outputs": [
    {
     "name": "stdout",
     "output_type": "stream",
     "text": [
      "yes, it's a books\n"
     ]
    }
   ],
   "source": [
    "elements = \"books\"\n",
    "if elements == \"books\":\n",
    "    print ( \"yes, it's a books\")\n"
   ]
  },
  {
   "cell_type": "code",
   "execution_count": 32,
   "id": "f24ba890-e67c-4cf7-862d-665c142c69bd",
   "metadata": {},
   "outputs": [
    {
     "name": "stdout",
     "output_type": "stream",
     "text": [
      "3 its a positive number\n"
     ]
    }
   ],
   "source": [
    "num  = 3\n",
    "if num > 0 :\n",
    "   print (num, \"its a positive number\")\n"
   ]
  },
  {
   "cell_type": "code",
   "execution_count": 29,
   "id": "035b670f-a132-434e-99ea-2faf83c8ca44",
   "metadata": {},
   "outputs": [
    {
     "name": "stdout",
     "output_type": "stream",
     "text": [
      "3 is a positive number.\n",
      "This is always printed.\n"
     ]
    }
   ],
   "source": [
    "num = 3\n",
    "if num > 0:\n",
    "    print(num, \"is a positive number.\")\n",
    "print(\"This is always printed.\")"
   ]
  },
  {
   "cell_type": "code",
   "execution_count": 37,
   "id": "1e34eb15-7861-4912-9479-6836d02d64fc",
   "metadata": {},
   "outputs": [
    {
     "name": "stdout",
     "output_type": "stream",
     "text": [
      "3 ok\n"
     ]
    }
   ],
   "source": [
    "num = 3\n",
    "if num == 3:\n",
    "  print (num, \"ok\")\n",
    "    "
   ]
  },
  {
   "cell_type": "code",
   "execution_count": 39,
   "id": "6d271a8d-92f3-4ee3-af91-3807b62defcd",
   "metadata": {},
   "outputs": [
    {
     "name": "stdout",
     "output_type": "stream",
     "text": [
      "Yep, it's books.\n"
     ]
    }
   ],
   "source": [
    "elements = \"books\"\n",
    "\n",
    "if elements == \"books\":\n",
    "     print(\"Yep, it's books.\")\n",
    "        \n",
    "if elements != \"books\":\n",
    "     print(\"Nope, not books.\")"
   ]
  },
  {
   "cell_type": "code",
   "execution_count": 40,
   "id": "a666fe44-5c13-48a1-91b7-c0835c545387",
   "metadata": {},
   "outputs": [
    {
     "name": "stdout",
     "output_type": "stream",
     "text": [
      "Yep, it's books.\n",
      "Nope, not books.\n"
     ]
    }
   ],
   "source": [
    "elements = \"books\"\n",
    "\n",
    "if elements == \"books\":\n",
    "     print(\"Yep, it's books.\")\n",
    "        \n",
    "if elements != \"pens\":\n",
    "     print(\"Nope, not books.\")"
   ]
  },
  {
   "cell_type": "code",
   "execution_count": 41,
   "id": "ba2c681d-92f4-4a25-a19b-a542f8d80b36",
   "metadata": {},
   "outputs": [
    {
     "name": "stdout",
     "output_type": "stream",
     "text": [
      "Negative number\n"
     ]
    }
   ],
   "source": [
    "num=-5\n",
    "if num > 0:\n",
    "    print(\"Positive number\")\n",
    "elif num == 0:\n",
    "    print(\"Zero\")\n",
    "else:\n",
    "    print(\"Negative number\")"
   ]
  },
  {
   "cell_type": "code",
   "execution_count": 42,
   "id": "c681ce9b-5dad-4017-ba20-6650f29bed31",
   "metadata": {},
   "outputs": [
    {
     "name": "stdout",
     "output_type": "stream",
     "text": [
      "Positive number\n"
     ]
    }
   ],
   "source": [
    "num=10\n",
    "if num > 0:\n",
    "    print(\"Positive number\")\n",
    "elif num == 0:\n",
    "    print(\"Zero\")\n",
    "else:\n",
    "    print(\"Negative number\")"
   ]
  },
  {
   "cell_type": "code",
   "execution_count": 43,
   "id": "07a1988f-c83b-4ba0-b6ed-f5127f8d12d0",
   "metadata": {},
   "outputs": [
    {
     "name": "stdout",
     "output_type": "stream",
     "text": [
      "Zero\n"
     ]
    }
   ],
   "source": [
    "num=0\n",
    "if num > 0:\n",
    "    print(\"Positive number\")\n",
    "elif num == 0:\n",
    "    print(\"Zero\")\n",
    "else:\n",
    "    print(\"Negative number\")"
   ]
  },
  {
   "cell_type": "code",
   "execution_count": null,
   "id": "936b4451-72e0-4dfe-b540-32759d97ed76",
   "metadata": {},
   "outputs": [],
   "source": []
  },
  {
   "cell_type": "code",
   "execution_count": 55,
   "id": "915aee23-da4c-402a-bef7-2389c23a45cf",
   "metadata": {},
   "outputs": [
    {
     "ename": "IndentationError",
     "evalue": "unexpected indent (3714788645.py, line 5)",
     "output_type": "error",
     "traceback": [
      "\u001b[1;36m  Cell \u001b[1;32mIn[55], line 5\u001b[1;36m\u001b[0m\n\u001b[1;33m    for select_mall in pakistan_malls:\u001b[0m\n\u001b[1;37m    ^\u001b[0m\n\u001b[1;31mIndentationError\u001b[0m\u001b[1;31m:\u001b[0m unexpected indent\n"
     ]
    }
   ],
   "source": [
    "pakistan_malls= [ \"trade\",\"center\",\"arena\",\"bahawalpur\"]       \n",
    "select_mall= \"arena\"\n",
    "\n",
    "\n",
    "     for select_mall in pakistan_malls:\n",
    "             if select_malls == pakistan_malls:\n",
    "                 print (\"yes this mall is exist\")"
   ]
  },
  {
   "cell_type": "code",
   "execution_count": 56,
   "id": "3c8a85d5-7b1f-4a7a-bd13-2ef22fb2df35",
   "metadata": {},
   "outputs": [
    {
     "name": "stdout",
     "output_type": "stream",
     "text": [
      "The sum is 7\n",
      "The sum is 12\n",
      "The sum is 15\n",
      "The sum is 25\n",
      "The sum is 29\n",
      "The sum is 31\n",
      "The sum is 39\n",
      "The sum is 43\n",
      "The sum is 54\n"
     ]
    }
   ],
   "source": [
    "numbers = [7, 5, 3, 10, 4, 2, 8, 4, 11]\n",
    "sum = 0\n",
    "for val in numbers:\n",
    "    sum = sum+val\n",
    "    print(\"The sum is\", sum)"
   ]
  },
  {
   "cell_type": "code",
   "execution_count": 57,
   "id": "31824a14-0015-4033-85fc-e2c9ed50076d",
   "metadata": {},
   "outputs": [
    {
     "name": "stdin",
     "output_type": "stream",
     "text": [
      "Enter the number 8\n"
     ]
    },
    {
     "name": "stdout",
     "output_type": "stream",
     "text": [
      " 8 * 1 = 8\n",
      " 8 * 2 = 16\n",
      " 8 * 3 = 24\n",
      " 8 * 4 = 32\n",
      " 8 * 5 = 40\n",
      " 8 * 6 = 48\n",
      " 8 * 7 = 56\n",
      " 8 * 8 = 64\n",
      " 8 * 9 = 72\n",
      " 8 * 10 = 80\n"
     ]
    }
   ],
   "source": [
    "table = int(input(\"Enter the number\"))\n",
    "\n",
    "for num in range(1,11):\n",
    "    print(f\" {table} * {num} = {table*num}\")"
   ]
  },
  {
   "cell_type": "code",
   "execution_count": null,
   "id": "f971599b-2623-452b-a458-87d385862e27",
   "metadata": {},
   "outputs": [],
   "source": [
    "table = int(input(\"Enter the number\"))\n",
    "\n",
    "for table in range(2,table+1):\n",
    "    print(\" \")\n",
    "    for num in range(1,11):\n",
    "        \n",
    "        print(f\" {table} * {num} = {table*num}\")"
   ]
  },
  {
   "cell_type": "code",
   "execution_count": null,
   "id": "248bc1fc-77c0-4257-b768-0cbae04e57ad",
   "metadata": {},
   "outputs": [],
   "source": []
  }
 ],
 "metadata": {
  "kernelspec": {
   "display_name": "Python 3 (ipykernel)",
   "language": "python",
   "name": "python3"
  },
  "language_info": {
   "codemirror_mode": {
    "name": "ipython",
    "version": 3
   },
   "file_extension": ".py",
   "mimetype": "text/x-python",
   "name": "python",
   "nbconvert_exporter": "python",
   "pygments_lexer": "ipython3",
   "version": "3.11.7"
  }
 },
 "nbformat": 4,
 "nbformat_minor": 5
}
